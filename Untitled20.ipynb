{
  "nbformat": 4,
  "nbformat_minor": 0,
  "metadata": {
    "colab": {
      "provenance": [],
      "authorship_tag": "ABX9TyP9MSDQGezbn+Mttj+qlCKE",
      "include_colab_link": true
    },
    "kernelspec": {
      "name": "python3",
      "display_name": "Python 3"
    },
    "language_info": {
      "name": "python"
    }
  },
  "cells": [
    {
      "cell_type": "markdown",
      "metadata": {
        "id": "view-in-github",
        "colab_type": "text"
      },
      "source": [
        "<a href=\"https://colab.research.google.com/github/ridhiagarwalla/Smart-Lead-Matchmaker/blob/main/Untitled20.ipynb\" target=\"_parent\"><img src=\"https://colab.research.google.com/assets/colab-badge.svg\" alt=\"Open In Colab\"/></a>"
      ]
    },
    {
      "cell_type": "code",
      "execution_count": null,
      "metadata": {
        "colab": {
          "base_uri": "https://localhost:8080/"
        },
        "id": "F9LxZV27hrZa",
        "outputId": "0c03ebd8-2fd9-458c-a7c5-349a0e141cd1"
      },
      "outputs": [
        {
          "output_type": "stream",
          "name": "stdout",
          "text": [
            "Requirement already satisfied: streamlit in /usr/local/lib/python3.11/dist-packages (1.45.1)\n",
            "Requirement already satisfied: pandas in /usr/local/lib/python3.11/dist-packages (2.2.2)\n",
            "Requirement already satisfied: scikit-learn in /usr/local/lib/python3.11/dist-packages (1.6.1)\n",
            "Requirement already satisfied: matplotlib in /usr/local/lib/python3.11/dist-packages (3.10.0)\n",
            "Requirement already satisfied: pyngrok in /usr/local/lib/python3.11/dist-packages (7.2.11)\n",
            "Requirement already satisfied: altair<6,>=4.0 in /usr/local/lib/python3.11/dist-packages (from streamlit) (5.5.0)\n",
            "Requirement already satisfied: blinker<2,>=1.5.0 in /usr/local/lib/python3.11/dist-packages (from streamlit) (1.9.0)\n",
            "Requirement already satisfied: cachetools<6,>=4.0 in /usr/local/lib/python3.11/dist-packages (from streamlit) (5.5.2)\n",
            "Requirement already satisfied: click<9,>=7.0 in /usr/local/lib/python3.11/dist-packages (from streamlit) (8.2.1)\n",
            "Requirement already satisfied: numpy<3,>=1.23 in /usr/local/lib/python3.11/dist-packages (from streamlit) (2.0.2)\n",
            "Requirement already satisfied: packaging<25,>=20 in /usr/local/lib/python3.11/dist-packages (from streamlit) (24.2)\n",
            "Requirement already satisfied: pillow<12,>=7.1.0 in /usr/local/lib/python3.11/dist-packages (from streamlit) (11.2.1)\n",
            "Requirement already satisfied: protobuf<7,>=3.20 in /usr/local/lib/python3.11/dist-packages (from streamlit) (5.29.5)\n",
            "Requirement already satisfied: pyarrow>=7.0 in /usr/local/lib/python3.11/dist-packages (from streamlit) (18.1.0)\n",
            "Requirement already satisfied: requests<3,>=2.27 in /usr/local/lib/python3.11/dist-packages (from streamlit) (2.32.3)\n",
            "Requirement already satisfied: tenacity<10,>=8.1.0 in /usr/local/lib/python3.11/dist-packages (from streamlit) (9.1.2)\n",
            "Requirement already satisfied: toml<2,>=0.10.1 in /usr/local/lib/python3.11/dist-packages (from streamlit) (0.10.2)\n",
            "Requirement already satisfied: typing-extensions<5,>=4.4.0 in /usr/local/lib/python3.11/dist-packages (from streamlit) (4.14.0)\n",
            "Requirement already satisfied: watchdog<7,>=2.1.5 in /usr/local/lib/python3.11/dist-packages (from streamlit) (6.0.0)\n",
            "Requirement already satisfied: gitpython!=3.1.19,<4,>=3.0.7 in /usr/local/lib/python3.11/dist-packages (from streamlit) (3.1.44)\n",
            "Requirement already satisfied: pydeck<1,>=0.8.0b4 in /usr/local/lib/python3.11/dist-packages (from streamlit) (0.9.1)\n",
            "Requirement already satisfied: tornado<7,>=6.0.3 in /usr/local/lib/python3.11/dist-packages (from streamlit) (6.4.2)\n",
            "Requirement already satisfied: python-dateutil>=2.8.2 in /usr/local/lib/python3.11/dist-packages (from pandas) (2.9.0.post0)\n",
            "Requirement already satisfied: pytz>=2020.1 in /usr/local/lib/python3.11/dist-packages (from pandas) (2025.2)\n",
            "Requirement already satisfied: tzdata>=2022.7 in /usr/local/lib/python3.11/dist-packages (from pandas) (2025.2)\n",
            "Requirement already satisfied: scipy>=1.6.0 in /usr/local/lib/python3.11/dist-packages (from scikit-learn) (1.15.3)\n",
            "Requirement already satisfied: joblib>=1.2.0 in /usr/local/lib/python3.11/dist-packages (from scikit-learn) (1.5.1)\n",
            "Requirement already satisfied: threadpoolctl>=3.1.0 in /usr/local/lib/python3.11/dist-packages (from scikit-learn) (3.6.0)\n",
            "Requirement already satisfied: contourpy>=1.0.1 in /usr/local/lib/python3.11/dist-packages (from matplotlib) (1.3.2)\n",
            "Requirement already satisfied: cycler>=0.10 in /usr/local/lib/python3.11/dist-packages (from matplotlib) (0.12.1)\n",
            "Requirement already satisfied: fonttools>=4.22.0 in /usr/local/lib/python3.11/dist-packages (from matplotlib) (4.58.1)\n",
            "Requirement already satisfied: kiwisolver>=1.3.1 in /usr/local/lib/python3.11/dist-packages (from matplotlib) (1.4.8)\n",
            "Requirement already satisfied: pyparsing>=2.3.1 in /usr/local/lib/python3.11/dist-packages (from matplotlib) (3.2.3)\n",
            "Requirement already satisfied: PyYAML>=5.1 in /usr/local/lib/python3.11/dist-packages (from pyngrok) (6.0.2)\n",
            "Requirement already satisfied: jinja2 in /usr/local/lib/python3.11/dist-packages (from altair<6,>=4.0->streamlit) (3.1.6)\n",
            "Requirement already satisfied: jsonschema>=3.0 in /usr/local/lib/python3.11/dist-packages (from altair<6,>=4.0->streamlit) (4.24.0)\n",
            "Requirement already satisfied: narwhals>=1.14.2 in /usr/local/lib/python3.11/dist-packages (from altair<6,>=4.0->streamlit) (1.41.0)\n",
            "Requirement already satisfied: gitdb<5,>=4.0.1 in /usr/local/lib/python3.11/dist-packages (from gitpython!=3.1.19,<4,>=3.0.7->streamlit) (4.0.12)\n",
            "Requirement already satisfied: six>=1.5 in /usr/local/lib/python3.11/dist-packages (from python-dateutil>=2.8.2->pandas) (1.17.0)\n",
            "Requirement already satisfied: charset-normalizer<4,>=2 in /usr/local/lib/python3.11/dist-packages (from requests<3,>=2.27->streamlit) (3.4.2)\n",
            "Requirement already satisfied: idna<4,>=2.5 in /usr/local/lib/python3.11/dist-packages (from requests<3,>=2.27->streamlit) (3.10)\n",
            "Requirement already satisfied: urllib3<3,>=1.21.1 in /usr/local/lib/python3.11/dist-packages (from requests<3,>=2.27->streamlit) (2.4.0)\n",
            "Requirement already satisfied: certifi>=2017.4.17 in /usr/local/lib/python3.11/dist-packages (from requests<3,>=2.27->streamlit) (2025.4.26)\n",
            "Requirement already satisfied: smmap<6,>=3.0.1 in /usr/local/lib/python3.11/dist-packages (from gitdb<5,>=4.0.1->gitpython!=3.1.19,<4,>=3.0.7->streamlit) (5.0.2)\n",
            "Requirement already satisfied: MarkupSafe>=2.0 in /usr/local/lib/python3.11/dist-packages (from jinja2->altair<6,>=4.0->streamlit) (3.0.2)\n",
            "Requirement already satisfied: attrs>=22.2.0 in /usr/local/lib/python3.11/dist-packages (from jsonschema>=3.0->altair<6,>=4.0->streamlit) (25.3.0)\n",
            "Requirement already satisfied: jsonschema-specifications>=2023.03.6 in /usr/local/lib/python3.11/dist-packages (from jsonschema>=3.0->altair<6,>=4.0->streamlit) (2025.4.1)\n",
            "Requirement already satisfied: referencing>=0.28.4 in /usr/local/lib/python3.11/dist-packages (from jsonschema>=3.0->altair<6,>=4.0->streamlit) (0.36.2)\n",
            "Requirement already satisfied: rpds-py>=0.7.1 in /usr/local/lib/python3.11/dist-packages (from jsonschema>=3.0->altair<6,>=4.0->streamlit) (0.25.1)\n"
          ]
        }
      ],
      "source": [
        "!pip install streamlit pandas scikit-learn matplotlib pyngrok\n"
      ]
    },
    {
      "cell_type": "code",
      "source": [
        "!pkill streamlit\n",
        "!pkill ngrok\n"
      ],
      "metadata": {
        "colab": {
          "base_uri": "https://localhost:8080/"
        },
        "id": "dFqEttQqP0SK",
        "outputId": "c74494e6-bb39-44dd-8f78-e73be0ed53d3"
      },
      "execution_count": null,
      "outputs": [
        {
          "output_type": "stream",
          "name": "stderr",
          "text": [
            "WARNING:pyngrok.process.ngrok:t=2025-06-07T07:46:18+0000 lvl=warn msg=\"Stopping forwarder\" name=http-8501-46824fe8-0582-489d-a744-d9fd19329e9c acceptErr=\"failed to accept connection: Listener closed\"\n"
          ]
        }
      ]
    },
    {
      "cell_type": "code",
      "source": [
        "%%writefile app.py\n",
        "\n",
        "import streamlit as st\n",
        "import pandas as pd\n",
        "from sklearn.feature_extraction.text import TfidfVectorizer\n",
        "from sklearn.metrics.pairwise import cosine_similarity\n",
        "import matplotlib.pyplot as plt\n",
        "\n",
        "# Dummy company dataset\n",
        "companies = pd.DataFrame({\n",
        "    \"company_name\": [\n",
        "        \"CloudGenix AI\", \"HealthSync\", \"RetailBot\", \"FinNova\", \"EduSmart\",\n",
        "        \"GreenTech\", \"AutoReach\", \"MedTech Pulse\", \"LogiAI\", \"LocalCrafts\"\n",
        "    ],\n",
        "    \"industry\": [\n",
        "        \"AI SaaS\", \"Healthcare\", \"Retail\", \"Fintech\", \"Edtech\",\n",
        "        \"Sustainability\", \"CRM\", \"Medtech\", \"Logistics\", \"Marketplace\"\n",
        "    ],\n",
        "    \"location\": [\n",
        "        \"San Francisco\", \"New York\", \"Austin\", \"London\", \"Bangalore\",\n",
        "        \"Berlin\", \"Chicago\", \"Boston\", \"Toronto\", \"Delhi\"\n",
        "    ],\n",
        "    \"description\": [\n",
        "        \"AI-powered cloud infrastructure analytics.\",\n",
        "        \"SaaS for doctor-patient communication.\",\n",
        "        \"Retail automation platform for SMEs.\",\n",
        "        \"Finance tools using ML risk scoring.\",\n",
        "        \"Gamified learning for schools.\",\n",
        "        \"Clean energy monitoring for cities.\",\n",
        "        \"CRM for small business sales automation.\",\n",
        "        \"AI diagnostics for hospitals.\",\n",
        "        \"AI logistics optimization tools.\",\n",
        "        \"B2B marketplace for artisans.\"\n",
        "    ],\n",
        "    \"stage\": [\n",
        "        \"Series A\", \"Seed\", \"Series B\", \"Series A\", \"Pre-seed\",\n",
        "        \"Series B\", \"Seed\", \"Series A\", \"Series A\", \"Bootstrapped\"\n",
        "    ]\n",
        "})\n",
        "\n",
        "def onboarding_quiz():\n",
        "    st.header(\"🎲 Gamified Onboarding Quiz\")\n",
        "    role = st.selectbox(\"Select your role\", [\"Founder\", \"Investor\", \"Sales Lead\"])\n",
        "    model = st.selectbox(\"What is your business model?\", [\"SaaS\", \"Marketplace\", \"E-commerce\", \"Other\"])\n",
        "    goals = st.multiselect(\"What are you looking for?\", [\"Clients\", \"Investors\", \"Partners\", \"Distributors\"])\n",
        "    location = st.selectbox(\"Preferred partner location\", [\"Global\", \"North America\", \"Europe\", \"Asia\"])\n",
        "    stage = st.selectbox(\"What is your company stage?\", [\"Pre-seed\", \"Seed\", \"Series A\", \"Bootstrapped\"])\n",
        "\n",
        "    if st.button(\"Submit Profile\"):\n",
        "        profile = {\n",
        "            \"role\": role,\n",
        "            \"model\": model,\n",
        "            \"goals\": goals,\n",
        "            \"location\": location,\n",
        "            \"stage\": stage\n",
        "        }\n",
        "        return profile\n",
        "    return None\n",
        "\n",
        "def calculate_points(profile):\n",
        "    points = 0\n",
        "    for key, val in profile.items():\n",
        "        if val and val != \"Other\" and (not isinstance(val, list) or len(val) > 0):\n",
        "            points += 20\n",
        "    return points\n",
        "\n",
        "def match_leads(profile, companies_df):\n",
        "    profile_text = f\"{profile['role']} in {profile['model']} looking for {' '.join(profile['goals'])} in {profile['location']} stage {profile['stage']}\"\n",
        "    docs = [profile_text] + companies_df[\"description\"].tolist()\n",
        "    vectorizer = TfidfVectorizer(stop_words=\"english\")\n",
        "    tfidf = vectorizer.fit_transform(docs)\n",
        "    sim_scores = cosine_similarity(tfidf[0:1], tfidf[1:]).flatten()\n",
        "    companies_df[\"score\"] = sim_scores\n",
        "    return companies_df.sort_values(by=\"score\", ascending=False).head(5)\n",
        "\n",
        "def plot_comparison(profile, top_matches):\n",
        "    st.subheader(\"📊 Visual Comparison Dashboard\")\n",
        "    categories = ['Similarity Score']\n",
        "    user_scores = [1]  # baseline\n",
        "    company_scores = top_matches['score'].values.tolist()\n",
        "\n",
        "    fig, ax = plt.subplots(figsize=(8,3))\n",
        "    ax.barh(categories, user_scores, color='green', label='You')\n",
        "    left = user_scores[0]\n",
        "    ax.barh(categories, company_scores, color='blue', left=left, label='Top Leads')\n",
        "    ax.set_xlim(0, 2)\n",
        "    ax.set_xlabel('Score')\n",
        "    ax.set_title('User Profile vs. Top Lead Similarity Scores')\n",
        "    ax.legend()\n",
        "    st.pyplot(fig)\n",
        "\n",
        "def main():\n",
        "    st.title(\"🚀 AI-Powered Lead Generation with Gamification\")\n",
        "\n",
        "    profile = onboarding_quiz()\n",
        "    if profile:\n",
        "        points = calculate_points(profile)\n",
        "        st.success(f\"You earned **{points} points** for completing your profile!\")\n",
        "\n",
        "        if points >= 80:\n",
        "            st.balloons()\n",
        "            st.info(\"🎉 Congrats! You qualify for a **15% discount** on premium leads!\")\n",
        "        elif points >= 60:\n",
        "            st.info(\"🎁 Good job! You get **5 free premium leads** as a reward!\")\n",
        "        else:\n",
        "            st.warning(\"Complete more profile fields next time for better rewards.\")\n",
        "\n",
        "        st.write(\"---\")\n",
        "        st.subheader(\"Matching you with top companies...\")\n",
        "        top_leads = match_leads(profile, companies)\n",
        "        st.dataframe(top_leads[['company_name', 'industry', 'location', 'stage', 'score']].style.format({\"score\":\"{:.2f}\"}))\n",
        "\n",
        "        plot_comparison(profile, top_leads)\n",
        "\n",
        "if __name__ == \"__main__\":\n",
        "    main()\n"
      ],
      "metadata": {
        "colab": {
          "base_uri": "https://localhost:8080/"
        },
        "id": "Yfz1mNwbjeh4",
        "outputId": "8da07d0d-1435-459b-c741-ced4096f839d"
      },
      "execution_count": null,
      "outputs": [
        {
          "output_type": "stream",
          "name": "stdout",
          "text": [
            "Overwriting app.py\n"
          ]
        }
      ]
    },
    {
      "cell_type": "code",
      "source": [
        "!ngrok config add-authtoken 2yAHpV2FRNmD0UhR32gI0d04RKQ_88bsx5YCy2v8kRNrnpLYc\n"
      ],
      "metadata": {
        "colab": {
          "base_uri": "https://localhost:8080/"
        },
        "id": "P2hz7LVqrA91",
        "outputId": "6354d047-10a0-44e1-a8af-e186e7cd562c"
      },
      "execution_count": null,
      "outputs": [
        {
          "output_type": "stream",
          "name": "stdout",
          "text": [
            "Authtoken saved to configuration file: /root/.config/ngrok/ngrok.yml\n"
          ]
        }
      ]
    },
    {
      "cell_type": "code",
      "source": [
        "import time\n",
        "from pyngrok import ngrok\n",
        "import os\n",
        "\n",
        "# Start Streamlit in background\n",
        "!streamlit run app.py &>/content/logs.txt &\n",
        "\n",
        "# Wait for it to start\n",
        "time.sleep(5)\n",
        "\n",
        "# Connect via ngrok\n",
        "public_url = ngrok.connect(8501)\n",
        "print(\"🔗 Visit your app at:\", public_url)\n"
      ],
      "metadata": {
        "colab": {
          "base_uri": "https://localhost:8080/"
        },
        "id": "kvOwu8FUopLJ",
        "outputId": "6bf1a3d6-99dc-4247-fc47-5390b1b2e9e0"
      },
      "execution_count": null,
      "outputs": [
        {
          "output_type": "stream",
          "name": "stdout",
          "text": [
            "🔗 Visit your app at: NgrokTunnel: \"https://ee9a-35-237-174-204.ngrok-free.app\" -> \"http://localhost:8501\"\n"
          ]
        }
      ]
    }
  ]
}